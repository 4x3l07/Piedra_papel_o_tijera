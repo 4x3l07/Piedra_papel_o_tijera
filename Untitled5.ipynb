{
  "nbformat": 4,
  "nbformat_minor": 0,
  "metadata": {
    "colab": {
      "provenance": [],
      "authorship_tag": "ABX9TyMRfabSgLe7ONimEqLX0UZj",
      "include_colab_link": true
    },
    "kernelspec": {
      "name": "python3",
      "display_name": "Python 3"
    },
    "language_info": {
      "name": "python"
    }
  },
  "cells": [
    {
      "cell_type": "markdown",
      "metadata": {
        "id": "view-in-github",
        "colab_type": "text"
      },
      "source": [
        "<a href=\"https://colab.research.google.com/github/4x3l07/Piedra_papel_o_tijera/blob/main/Untitled5.ipynb\" target=\"_parent\"><img src=\"https://colab.research.google.com/assets/colab-badge.svg\" alt=\"Open In Colab\"/></a>"
      ]
    },
    {
      "cell_type": "code",
      "execution_count": null,
      "metadata": {
        "id": "z0CHezoRlt6x"
      },
      "outputs": [],
      "source": [
        "import os\n",
        "os.system(\"cls\")\n",
        "\n",
        "import random\n",
        "\n",
        "print(\"Piedra, Papel o Tijeras\")\n",
        "print(\"¡¡El humano vs La computadora!!\")\n",
        "print(\"----OPCIONES----\")\n",
        "print(\"1.  Piedra\")\n",
        "print(\"2.  Papel\")\n",
        "print(\"3.  Tijera\")\n",
        "\n",
        "intentos = 3\n",
        "\n",
        "while(intentos > 0 and intentos < 4):\n",
        "    eleccion = int(input(\"\\nElije una opcion: \"))\n",
        "    compu = random.randint(1,3)\n",
        "\n",
        "    #gana el humano\n",
        "    if eleccion == 1 and compu == 3:\n",
        "        print(\"\\nElegiste piedra y la compu tijera\")\n",
        "        print(\"Por lo que GANA el humano\")\n",
        "        intentos = intentos - 1\n",
        "        print(f\"quedan {intentos} intentos\")\n",
        "        print(\"----------------------------\")\n",
        "    elif eleccion == 2 and compu == 1:\n",
        "        print(\"\\nElegiste papel y la compu piedra\")\n",
        "        print(\"Por lo que GANA el humano\")\n",
        "        intentos = intentos - 1\n",
        "        print(f\"quedan {intentos} intentos\")\n",
        "        print(\"----------------------------\")\n",
        "    elif eleccion ==  3 and compu == 2:\n",
        "        print(\"\\nElegiste tijera y la compu papel\")\n",
        "        print(\"Por lo que GANA el humano\")\n",
        "        intentos = intentos - 1\n",
        "        print(f\"quedan {intentos} intentos\")\n",
        "        print(\"----------------------------\")\n",
        "\n",
        "    #gana la compuutadora\n",
        "    if compu == 1 and eleccion == 3:\n",
        "        print(\"\\nla compu eligio piedra y tu tijera\")\n",
        "        print(\"Por lo que la computadora GANA\")\n",
        "        intentos = intentos - 1\n",
        "        print(f\"quedan {intentos} intentos\")\n",
        "        print(\"----------------------------\")\n",
        "    elif compu == 2 and eleccion == 1:\n",
        "        print(\"\\nla compu eligio papel y tu piedra\")\n",
        "        print(\"Por lo que la computadora GANA\")\n",
        "        intentos = intentos - 1\n",
        "        print(f\"quedan {intentos} intentos\")\n",
        "        print(\"----------------------------\")\n",
        "    elif compu == 3 and eleccion == 2:\n",
        "        print(\"\\nla compu eligio tijera y tu papel\")\n",
        "        print(\"Por lo que la computadora GANA\")\n",
        "        intentos = intentos - 1\n",
        "        print(f\"quedan {intentos} intentos\")\n",
        "        print(\"----------------------------\")\n",
        "\n",
        "    #Empate\n",
        "    elif compu == eleccion:\n",
        "        print(\"\\nEl humano y la computadora han empatado\")\n",
        "        intentos = intentos - 1\n",
        "        print(f\"quedan {intentos} intentos\")\n",
        "        print(\"----------------------------\")\n",
        "\n",
        "    #Por si elijen un numero que no sea del 1 al 3\n",
        "    elif eleccion > 3:\n",
        "        print(\"\\nElije una opcion correcta\")\n",
        "        print(\"----------------------------\")\n",
        "\n",
        "    #Fin de los intentos\n",
        "    if intentos < 1:\n",
        "        print(\"\\nSe acabaron los intentos >:|\")\n",
        "        break"
      ]
    }
  ]
}